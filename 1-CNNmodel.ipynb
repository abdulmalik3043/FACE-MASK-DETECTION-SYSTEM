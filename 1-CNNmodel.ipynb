{
 "cells": [
  {
   "cell_type": "code",
   "execution_count": 1,
   "metadata": {},
   "outputs": [
    {
     "name": "stdout",
     "output_type": "stream",
     "text": [
      "['without_mask', 'with_mask']\n",
      "Total no of images: 782\n",
      "No of images with mask: 397\n",
      "No of images without mask: 385\n"
     ]
    }
   ],
   "source": [
    "import os\n",
    "os.chdir(\"facemaskdetection\")\n",
    "Dataset='Dataset'\n",
    "Data_Dir=os.listdir(Dataset)\n",
    "print(Data_Dir)\n",
    "print('Total no of images:',len(os.listdir('Dataset/with_mask')) + len(os.listdir('Dataset/without_mask')))\n",
    "print('No of images with mask:',len(os.listdir('Dataset/with_mask')))\n",
    "print('No of images without mask:',len(os.listdir('Dataset/without_mask')))"
   ]
  },
  {
   "cell_type": "code",
   "execution_count": 2,
   "metadata": {
    "scrolled": true
   },
   "outputs": [
    {
     "name": "stdout",
     "output_type": "stream",
     "text": [
      "No of images in training sample: 586\n",
      "No of images in testing sample: 196\n"
     ]
    }
   ],
   "source": [
    "import cv2\n",
    "import numpy as np\n",
    "from tensorflow.keras.utils import to_categorical\n",
    "from sklearn.preprocessing import LabelBinarizer\n",
    "from sklearn.model_selection import train_test_split\n",
    "img_rows, img_cols = 112, 112\n",
    "\n",
    "images = []\n",
    "labels = []\n",
    "\n",
    "for category in Data_Dir:\n",
    "    folder_path = os.path.join(Dataset, category)\n",
    "    for img in os.listdir(folder_path):\n",
    "        img_path = os.path.join(folder_path, img)\n",
    "        img=cv2.imread(img_path)\n",
    "\n",
    "        try:\n",
    "            grayscale_img=cv2.cvtColor(img,cv2.COLOR_BGR2GRAY)           \n",
    "            resized_img=cv2.resize(grayscale_img,(img_rows, img_cols))\n",
    "            images.append(resized_img)\n",
    "            labels.append(category)\n",
    "        except Exception as e:\n",
    "            print('Exception:',e)\n",
    "        \n",
    "images=np.array(images)/255.0\n",
    "images=np.reshape(images,(images.shape[0],img_rows, img_cols,1))\n",
    "#ONE HOT ENCODER\n",
    "lb = LabelBinarizer()\n",
    "labels = lb.fit_transform(labels)\n",
    "labels = to_categorical(labels)\n",
    "labels = np.array(labels)\n",
    "\n",
    "(train_X, test_X, train_y, test_y) = train_test_split(images, labels, test_size=0.25, random_state=0)\n",
    "print('No of images in training sample:',len(train_X))\n",
    "print('No of images in testing sample:', len(test_X))"
   ]
  },
  {
   "cell_type": "code",
   "execution_count": 3,
   "metadata": {},
   "outputs": [
    {
     "name": "stdout",
     "output_type": "stream",
     "text": [
      "Model: \"sequential\"\n",
      "_________________________________________________________________\n",
      "Layer (type)                 Output Shape              Param #   \n",
      "=================================================================\n",
      "conv2d (Conv2D)              (None, 110, 110, 64)      640       \n",
      "_________________________________________________________________\n",
      "activation (Activation)      (None, 110, 110, 64)      0         \n",
      "_________________________________________________________________\n",
      "max_pooling2d (MaxPooling2D) (None, 55, 55, 64)        0         \n",
      "_________________________________________________________________\n",
      "conv2d_1 (Conv2D)            (None, 53, 53, 128)       73856     \n",
      "_________________________________________________________________\n",
      "activation_1 (Activation)    (None, 53, 53, 128)       0         \n",
      "_________________________________________________________________\n",
      "max_pooling2d_1 (MaxPooling2 (None, 26, 26, 128)       0         \n",
      "_________________________________________________________________\n",
      "flatten (Flatten)            (None, 86528)             0         \n",
      "_________________________________________________________________\n",
      "dropout (Dropout)            (None, 86528)             0         \n",
      "_________________________________________________________________\n",
      "dense (Dense)                (None, 64)                5537856   \n",
      "_________________________________________________________________\n",
      "dense_1 (Dense)              (None, 2)                 130       \n",
      "=================================================================\n",
      "Total params: 5,612,482\n",
      "Trainable params: 5,612,482\n",
      "Non-trainable params: 0\n",
      "_________________________________________________________________\n",
      "None\n"
     ]
    }
   ],
   "source": [
    "\n",
    "from keras.models import Sequential\n",
    "from keras.layers import Dense,Activation,Flatten,Dropout\n",
    "from keras.layers import Conv2D,MaxPooling2D\n",
    "\n",
    "\n",
    "num_classes = 2\n",
    "batch_size = 32\n",
    "\n",
    "\n",
    "model=Sequential()\n",
    "\n",
    "\n",
    "model.add(Conv2D(64,(3,3),input_shape=(img_rows, img_cols, 1)))\n",
    "model.add(Activation('relu'))\n",
    "model.add(MaxPooling2D(pool_size=(2,2)))\n",
    "\n",
    "\n",
    "model.add(Conv2D(128,(3,3)))\n",
    "model.add(Activation('relu'))\n",
    "model.add(MaxPooling2D(pool_size=(2,2)))\n",
    "\n",
    "model.add(Flatten())\n",
    "model.add(Dropout(0.5))\n",
    "\n",
    "\n",
    "model.add(Dense(64,activation='relu'))\n",
    "model.add(Dense(num_classes,activation='softmax'))\n",
    "\n",
    "print(model.summary())"
   ]
  },
  {
   "cell_type": "code",
   "execution_count": 4,
   "metadata": {
    "scrolled": false
   },
   "outputs": [
    {
     "name": "stdout",
     "output_type": "stream",
     "text": [
      "Epoch 1/50\n",
      "14/14 [==============================] - 11s 772ms/step - loss: 1.1071 - accuracy: 0.5125 - val_loss: 0.7021 - val_accuracy: 0.4694\n",
      "Epoch 2/50\n",
      "14/14 [==============================] - 11s 763ms/step - loss: 0.6763 - accuracy: 0.5558 - val_loss: 0.6372 - val_accuracy: 0.6463\n",
      "Epoch 3/50\n",
      "14/14 [==============================] - 12s 827ms/step - loss: 0.6341 - accuracy: 0.6196 - val_loss: 0.6600 - val_accuracy: 0.5102\n",
      "Epoch 4/50\n",
      "14/14 [==============================] - 12s 870ms/step - loss: 0.5586 - accuracy: 0.6879 - val_loss: 0.4617 - val_accuracy: 0.8231\n",
      "Epoch 5/50\n",
      "14/14 [==============================] - 12s 847ms/step - loss: 0.4736 - accuracy: 0.7813 - val_loss: 0.4920 - val_accuracy: 0.7415\n",
      "Epoch 6/50\n",
      "14/14 [==============================] - 12s 843ms/step - loss: 0.4131 - accuracy: 0.8200 - val_loss: 0.4204 - val_accuracy: 0.8435\n",
      "Epoch 7/50\n",
      "14/14 [==============================] - 11s 804ms/step - loss: 0.3288 - accuracy: 0.8724 - val_loss: 0.3359 - val_accuracy: 0.8639\n",
      "Epoch 8/50\n",
      "14/14 [==============================] - 11s 821ms/step - loss: 0.2216 - accuracy: 0.9226 - val_loss: 0.3132 - val_accuracy: 0.8776\n",
      "Epoch 9/50\n",
      "14/14 [==============================] - 11s 794ms/step - loss: 0.2166 - accuracy: 0.9157 - val_loss: 0.4886 - val_accuracy: 0.7823\n",
      "Epoch 10/50\n",
      "14/14 [==============================] - 11s 788ms/step - loss: 0.2119 - accuracy: 0.9089 - val_loss: 0.3039 - val_accuracy: 0.8776\n",
      "Epoch 11/50\n",
      "14/14 [==============================] - 11s 754ms/step - loss: 0.1279 - accuracy: 0.9636 - val_loss: 0.3149 - val_accuracy: 0.8844\n",
      "Epoch 12/50\n",
      "14/14 [==============================] - 11s 791ms/step - loss: 0.1072 - accuracy: 0.9658 - val_loss: 0.2905 - val_accuracy: 0.8844\n",
      "Epoch 13/50\n",
      "14/14 [==============================] - 11s 763ms/step - loss: 0.0879 - accuracy: 0.9795 - val_loss: 0.3515 - val_accuracy: 0.8571\n",
      "Epoch 14/50\n",
      "14/14 [==============================] - 11s 758ms/step - loss: 0.0577 - accuracy: 0.9863 - val_loss: 0.2645 - val_accuracy: 0.9048\n",
      "Epoch 15/50\n",
      "14/14 [==============================] - 11s 763ms/step - loss: 0.0383 - accuracy: 0.9932 - val_loss: 0.3390 - val_accuracy: 0.8980\n",
      "Epoch 16/50\n",
      "14/14 [==============================] - 11s 765ms/step - loss: 0.0432 - accuracy: 0.9886 - val_loss: 0.3070 - val_accuracy: 0.8912\n",
      "Epoch 17/50\n",
      "14/14 [==============================] - 11s 787ms/step - loss: 0.0310 - accuracy: 0.9909 - val_loss: 0.3733 - val_accuracy: 0.8707\n",
      "Epoch 18/50\n",
      "14/14 [==============================] - 11s 770ms/step - loss: 0.0250 - accuracy: 0.9932 - val_loss: 0.4358 - val_accuracy: 0.8707\n",
      "Epoch 19/50\n",
      "14/14 [==============================] - 11s 772ms/step - loss: 0.0239 - accuracy: 0.9886 - val_loss: 0.3382 - val_accuracy: 0.8980\n",
      "Epoch 20/50\n",
      "14/14 [==============================] - 11s 788ms/step - loss: 0.0184 - accuracy: 0.9977 - val_loss: 0.3223 - val_accuracy: 0.8844\n",
      "Epoch 21/50\n",
      "14/14 [==============================] - 11s 777ms/step - loss: 0.0237 - accuracy: 0.9954 - val_loss: 0.3596 - val_accuracy: 0.9048\n",
      "Epoch 22/50\n",
      "14/14 [==============================] - 11s 776ms/step - loss: 0.0331 - accuracy: 0.9886 - val_loss: 0.5678 - val_accuracy: 0.8571\n",
      "Epoch 23/50\n",
      "14/14 [==============================] - 11s 770ms/step - loss: 0.0317 - accuracy: 0.9909 - val_loss: 0.3227 - val_accuracy: 0.9048\n",
      "Epoch 24/50\n",
      "14/14 [==============================] - 11s 786ms/step - loss: 0.0282 - accuracy: 0.9932 - val_loss: 0.2887 - val_accuracy: 0.8980\n",
      "Epoch 25/50\n",
      "14/14 [==============================] - 11s 799ms/step - loss: 0.0174 - accuracy: 0.9977 - val_loss: 0.4456 - val_accuracy: 0.8776\n",
      "Epoch 26/50\n",
      "14/14 [==============================] - 11s 803ms/step - loss: 0.0094 - accuracy: 1.0000 - val_loss: 0.3956 - val_accuracy: 0.8844\n",
      "Epoch 27/50\n",
      "14/14 [==============================] - 11s 789ms/step - loss: 0.0096 - accuracy: 0.9977 - val_loss: 0.3736 - val_accuracy: 0.9048\n",
      "Epoch 28/50\n",
      "14/14 [==============================] - 11s 780ms/step - loss: 0.0223 - accuracy: 0.9954 - val_loss: 0.3892 - val_accuracy: 0.8912\n",
      "Epoch 29/50\n",
      "14/14 [==============================] - 11s 793ms/step - loss: 0.0101 - accuracy: 1.0000 - val_loss: 0.3258 - val_accuracy: 0.9116\n",
      "Epoch 30/50\n",
      "14/14 [==============================] - 11s 807ms/step - loss: 0.0150 - accuracy: 0.9954 - val_loss: 0.4429 - val_accuracy: 0.8776\n",
      "Epoch 31/50\n",
      "14/14 [==============================] - 12s 823ms/step - loss: 0.0069 - accuracy: 0.9977 - val_loss: 0.4179 - val_accuracy: 0.8844\n",
      "Epoch 32/50\n",
      "14/14 [==============================] - 11s 786ms/step - loss: 0.0107 - accuracy: 0.9954 - val_loss: 0.4643 - val_accuracy: 0.8776\n",
      "Epoch 33/50\n",
      "14/14 [==============================] - 11s 786ms/step - loss: 0.0172 - accuracy: 0.9909 - val_loss: 0.6108 - val_accuracy: 0.8707\n",
      "Epoch 34/50\n",
      "14/14 [==============================] - 11s 783ms/step - loss: 0.0323 - accuracy: 0.9909 - val_loss: 0.4234 - val_accuracy: 0.8776\n",
      "Epoch 35/50\n",
      "14/14 [==============================] - 11s 796ms/step - loss: 0.0225 - accuracy: 0.9954 - val_loss: 0.2975 - val_accuracy: 0.9116\n",
      "Epoch 36/50\n",
      "14/14 [==============================] - 11s 807ms/step - loss: 0.0141 - accuracy: 0.9977 - val_loss: 0.2793 - val_accuracy: 0.9184\n",
      "Epoch 37/50\n",
      "14/14 [==============================] - 11s 796ms/step - loss: 0.0078 - accuracy: 1.0000 - val_loss: 0.4934 - val_accuracy: 0.8776\n",
      "Epoch 38/50\n",
      "14/14 [==============================] - 11s 792ms/step - loss: 0.0042 - accuracy: 1.0000 - val_loss: 0.4129 - val_accuracy: 0.8980\n",
      "Epoch 39/50\n",
      "14/14 [==============================] - 11s 799ms/step - loss: 0.0031 - accuracy: 1.0000 - val_loss: 0.4882 - val_accuracy: 0.8844\n",
      "Epoch 40/50\n",
      "14/14 [==============================] - 11s 797ms/step - loss: 0.0065 - accuracy: 0.9977 - val_loss: 0.3572 - val_accuracy: 0.9184\n",
      "Epoch 41/50\n",
      "14/14 [==============================] - 12s 832ms/step - loss: 0.0048 - accuracy: 1.0000 - val_loss: 0.5648 - val_accuracy: 0.8844\n",
      "Epoch 42/50\n",
      "14/14 [==============================] - 11s 787ms/step - loss: 0.0052 - accuracy: 0.9977 - val_loss: 0.5061 - val_accuracy: 0.8844\n",
      "Epoch 43/50\n",
      "14/14 [==============================] - 11s 802ms/step - loss: 0.0073 - accuracy: 0.9977 - val_loss: 0.4990 - val_accuracy: 0.8776\n",
      "Epoch 44/50\n",
      "14/14 [==============================] - 11s 792ms/step - loss: 0.0062 - accuracy: 0.9977 - val_loss: 0.3540 - val_accuracy: 0.9116\n",
      "Epoch 45/50\n",
      "14/14 [==============================] - 11s 780ms/step - loss: 0.0034 - accuracy: 1.0000 - val_loss: 0.4773 - val_accuracy: 0.8844\n",
      "Epoch 46/50\n",
      "14/14 [==============================] - 11s 806ms/step - loss: 0.0048 - accuracy: 0.9977 - val_loss: 0.3358 - val_accuracy: 0.9252\n",
      "Epoch 47/50\n",
      "14/14 [==============================] - 11s 801ms/step - loss: 0.0030 - accuracy: 1.0000 - val_loss: 0.5793 - val_accuracy: 0.8776\n",
      "Epoch 48/50\n",
      "14/14 [==============================] - 11s 788ms/step - loss: 0.0023 - accuracy: 1.0000 - val_loss: 0.4480 - val_accuracy: 0.9048\n",
      "Epoch 49/50\n",
      "14/14 [==============================] - 11s 800ms/step - loss: 0.0019 - accuracy: 1.0000 - val_loss: 0.5677 - val_accuracy: 0.8707\n",
      "Epoch 50/50\n",
      "14/14 [==============================] - 11s 800ms/step - loss: 0.0038 - accuracy: 1.0000 - val_loss: 0.4668 - val_accuracy: 0.9048\n"
     ]
    },
    {
     "data": {
      "image/png": "[encoded data removed]",
      "text/plain": [
       "<Figure size 432x288 with 1 Axes>"
      ]
     },
     "metadata": {
      "needs_background": "light"
     },
     "output_type": "display_data"
    },
    {
     "data": {
      "image/png": "[encoded data removed]",
      "text/plain": [
       "<Figure size 432x288 with 1 Axes>"
      ]
     },
     "metadata": {
      "needs_background": "light"
     },
     "output_type": "display_data"
    }
   ],
   "source": [
    "from keras.utils.vis_utils import plot_model\n",
    "plot_model(model, to_file='face_mask_detection_architecture.png')\n",
    "\n",
    "from keras.optimizers import Adam\n",
    "\n",
    "epochs = 50\n",
    "\n",
    "model.compile(loss = 'categorical_crossentropy',\n",
    "              optimizer = Adam(lr=0.001),\n",
    "              metrics = ['accuracy'])\n",
    "\n",
    "fitted_model = model.fit(\n",
    "    train_X,\n",
    "    train_y,\n",
    "    epochs = epochs,\n",
    "    validation_split=0.25)\n",
    "\n",
    "\n",
    "from matplotlib import pyplot as plt\n",
    "\n",
    "plt.plot(fitted_model.history['loss'],'r',label='training loss')\n",
    "plt.plot(fitted_model.history['val_loss'],label='validation loss')\n",
    "plt.xlabel('Number of Epochs')\n",
    "plt.ylabel('Loss Value')\n",
    "plt.legend()\n",
    "plt.show()\n",
    "\n",
    "plt.plot(fitted_model.history['accuracy'],'r',label='training accuracy')\n",
    "plt.plot(fitted_model.history['val_accuracy'],label='validation accuracy')\n",
    "plt.xlabel('Number of Epochs')\n",
    "plt.ylabel('Accuracy Value')\n",
    "plt.legend()\n",
    "plt.show()"
   ]
  },
  {
   "cell_type": "code",
   "execution_count": 5,
   "metadata": {},
   "outputs": [],
   "source": [
    "model.save('facemaskpredictor.h5')"
   ]
  }
 ],
 "metadata": {
  "kernelspec": {
   "display_name": "Python 3",
   "language": "python",
   "name": "python3"
  },
  "language_info": {
   "codemirror_mode": {
    "name": "ipython",
    "version": 3
   },
   "file_extension": ".py",
   "mimetype": "text/x-python",
   "name": "python",
   "nbconvert_exporter": "python",
   "pygments_lexer": "ipython3",
   "version": "3.8.3"
  }
 },
 "nbformat": 4,
 "nbformat_minor": 4
}
