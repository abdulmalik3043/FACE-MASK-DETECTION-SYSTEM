{
 "cells": [
  {
   "cell_type": "code",
   "execution_count": 1,
   "metadata": {},
   "outputs": [],
   "source": [
    "from keras.models import load_model\n",
    "import cv2\n",
    "import numpy as np\n",
    "import tkinter\n",
    "from tkinter import messagebox\n",
    "import smtplib\n",
    "import time\n",
    "from threading import Thread\n",
    "from email.mime.text import MIMEText\n",
    "from email.mime.image import MIMEImage\n",
    "from email.mime.multipart import MIMEMultipart"
   ]
  },
  {
   "cell_type": "code",
   "execution_count": 2,
   "metadata": {},
   "outputs": [
    {
     "data": {
      "text/plain": [
       "''"
      ]
     },
     "execution_count": 2,
     "metadata": {},
     "output_type": "execute_result"
    }
   ],
   "source": [
    "root = tkinter.Tk()\n",
    "root.withdraw()"
   ]
  },
  {
   "cell_type": "code",
   "execution_count": 3,
   "metadata": {},
   "outputs": [],
   "source": [
    "def send_email(label):\n",
    "    SUBJECT = \"Violation\"   \n",
    "    TEXT = \"One Visitor violated Face Mask Policy. See in the camera to recognize user. A Person has been detected without a face mask in the Hotel Lobby Area 9. Please Alert the authorities.\"\n",
    "    while True:\n",
    "        if label == 1:\n",
    "            message = MIMEMultipart()\n",
    "            message['SUBJECT'] = 'SUBJECT'\n",
    "            message['From'] = '1gobinathal8@gmail.com'\n",
    "            message['To'] = '1gobinathal8@gmail.com'\n",
    "            message.attach(MIMEText('Subject: {}\\n\\n{}'.format(SUBJECT, TEXT)))\n",
    "            with open(\"filename.jpg\", 'rb') as f:\n",
    "                image = MIMEImage(f.read())\n",
    "            message.attach(image)\n",
    "            mail = smtplib.SMTP('smtp.gmail.com', 587)\n",
    "            mail.ehlo()\n",
    "            mail.starttls()\n",
    "            mail.login('1gobinathal8@gmail.com','Gobinath 22@')\n",
    "            mail.sendmail('1gobinathal8@gmail.com','1gobinathal8@gmail.com',message.as_string())\n",
    "            mail.close\n",
    "            print(\"message sent\")\n",
    "            time.sleep(10)"
   ]
  },
  {
   "cell_type": "code",
   "execution_count": null,
   "metadata": {},
   "outputs": [
    {
     "name": "stdout",
     "output_type": "stream",
     "text": [
      "WARNING:tensorflow:From <ipython-input-4-4cdad8bba01d>:26: Sequential.predict_classes (from tensorflow.python.keras.engine.sequential) is deprecated and will be removed after 2021-01-01.\n",
      "Instructions for updating:\n",
      "Please use instead:* `np.argmax(model.predict(x), axis=-1)`,   if your model does multi-class classification   (e.g. if it uses a `softmax` last-layer activation).* `(model.predict(x) > 0.5).astype(\"int32\")`,   if your model does binary classification   (e.g. if it uses a `sigmoid` last-layer activation).\n",
      "message sent\n"
     ]
    }
   ],
   "source": [
    "\n",
    "model = load_model('face_mask_detection_alert_system.h5')\n",
    "\n",
    "face_det_classifier=cv2.CascadeClassifier('haarcascade_frontalface_default.xml')\n",
    "\n",
    "vid_source=cv2.VideoCapture(0)\n",
    "\n",
    "text_dict={0:'Mask ON',1:'No Mask'}\n",
    "rect_color_dict={0:(0,255,0),1:(0,0,255)}\n",
    "\n",
    "\n",
    "i = 0\n",
    "while(True):\n",
    "\n",
    "    ret, img = vid_source.read()\n",
    "    cv2.imwrite(\"filename.jpg\",img)\n",
    "    grayscale_img = cv2.cvtColor(img,cv2.COLOR_BGR2GRAY)\n",
    "    faces = face_det_classifier.detectMultiScale(grayscale_img,1.3,5)  \n",
    "\n",
    "    for (x,y,w,h) in faces:\n",
    "    \n",
    "        face_img = grayscale_img[y:y+w,x:x+w]\n",
    "        resized_img = cv2.resize(face_img,(112,112))\n",
    "        normalized_img = resized_img/255.0\n",
    "        reshaped_img = np.reshape(normalized_img,(1,112,112,1))\n",
    "        result=model.predict(reshaped_img)\n",
    "        pred = model.predict_classes(reshaped_img)\n",
    "        label=np.argmax(result,axis=1)[0]\n",
    "        cv2.rectangle(img,(x,y),(x+w,y+h),rect_color_dict[label],2)\n",
    "        cv2.rectangle(img,(x,y-40),(x+w,y),rect_color_dict[label],-1)\n",
    "        cv2.putText(img, text_dict[label], (x, y-10),cv2.FONT_HERSHEY_SIMPLEX,0.8,(0,0,0),2) \n",
    "        if i == 0:\n",
    "            t = Thread(target = send_email, args = (label, ))\n",
    "            t.start()\n",
    "        i += 1\n",
    "        \n",
    "    cv2.imshow('LIVE Video Feed',img)\n",
    "    key=cv2.waitKey(1)\n",
    "    \n",
    "cv2.destroyAllWindows()\n",
    "source.release()"
   ]
  },
  {
   "cell_type": "code",
   "execution_count": null,
   "metadata": {},
   "outputs": [],
   "source": []
  },
  {
   "cell_type": "code",
   "execution_count": null,
   "metadata": {},
   "outputs": [],
   "source": []
  },
  {
   "cell_type": "code",
   "execution_count": null,
   "metadata": {},
   "outputs": [],
   "source": []
  },
  {
   "cell_type": "code",
   "execution_count": null,
   "metadata": {},
   "outputs": [],
   "source": []
  }
 ],
 "metadata": {
  "kernelspec": {
   "display_name": "Python 3",
   "language": "python",
   "name": "python3"
  },
  "language_info": {
   "codemirror_mode": {
    "name": "ipython",
    "version": 3
   },
   "file_extension": ".py",
   "mimetype": "text/x-python",
   "name": "python",
   "nbconvert_exporter": "python",
   "pygments_lexer": "ipython3",
   "version": "3.8.3"
  }
 },
 "nbformat": 4,
 "nbformat_minor": 4
}
